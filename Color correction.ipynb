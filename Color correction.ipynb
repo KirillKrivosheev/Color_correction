{
 "cells": [
  {
   "cell_type": "code",
   "execution_count": 1,
   "metadata": {},
   "outputs": [],
   "source": [
    "import numpy as np\n",
    "import colour\n",
    "import scipy.io\n",
    "import cv2 as cv\n",
    "import warnings\n",
    "\n",
    "np.set_printoptions(precision=1)"
   ]
  },
  {
   "cell_type": "markdown",
   "metadata": {},
   "source": [
    "# 1. Сбор данных"
   ]
  },
  {
   "cell_type": "markdown",
   "metadata": {},
   "source": [
    "Из предложенного <a href=\"http://cvil.eecs.yorku.ca/projects/public_html/illuminant/illuminant.html\" target=\"_blank\">датасета</a> я буду использовать изображения двух камер: Canon EOS-1Ds Mark III и Canon EOS 600D. (первую камеру я для краткости буду называть Mark, а вторую --- Canon). Будем преобразовывать изображения камеры Mark в изображения камеры Canon."
   ]
  },
  {
   "cell_type": "markdown",
   "metadata": {},
   "source": [
    "Имена всех фотографий в папке train_images. Данные с этих фотографий будут использованы для поиска матрицы преобразования $M$."
   ]
  },
  {
   "cell_type": "code",
   "execution_count": 2,
   "metadata": {},
   "outputs": [],
   "source": [
    "canon_names = ['Canon600D_0002', 'Canon600D_0015', 'Canon600D_0016', 'Canon600D_0017', 'Canon600D_0036', 'Canon600D_0037', 'Canon600D_0041', 'Canon600D_0059', 'Canon600D_0062', 'Canon600D_0070', 'Canon600D_0073', 'Canon600D_0097']\n",
    "mark_names = ['Canon1DsMkIII_0237', 'Canon1DsMkIII_0250', 'Canon1DsMkIII_0251', 'Canon1DsMkIII_0252', 'Canon1DsMkIII_0120', 'Canon1DsMkIII_0121', 'Canon1DsMkIII_0125', 'Canon1DsMkIII_0143', 'Canon1DsMkIII_0146', 'Canon1DsMkIII_0154', 'Canon1DsMkIII_0157', 'Canon1DsMkIII_0180']"
   ]
  },
  {
   "cell_type": "code",
   "execution_count": 3,
   "metadata": {},
   "outputs": [
    {
     "data": {
      "text/plain": [
       "12"
      ]
     },
     "execution_count": 3,
     "metadata": {},
     "output_type": "execute_result"
    }
   ],
   "source": [
    "len(canon_names)"
   ]
  },
  {
   "cell_type": "markdown",
   "metadata": {},
   "source": [
    "Изображения хранятся в координатах sRGB. Функция `decode_image` инвертирует это нелинейное преобразование. Я не стал сам писать формулу преобразования в sRGB и обратную к ней. Вместо этого я воспользовался <a href=\"https://colour.readthedocs.io/en/develop/generated/colour.models.eotf_sRGB.html\" target=\"_blank\">функцией</a> из библиотеки colour."
   ]
  },
  {
   "cell_type": "code",
   "execution_count": 4,
   "metadata": {},
   "outputs": [],
   "source": [
    "def decode_image(im):\n",
    "              \n",
    "    Float_img = im.astype(np.float32)                 #  convert image to float\n",
    "    \n",
    "    Normalised_img = Float_img/255.0              #  scale image to [0, 1]\n",
    "\n",
    "    Decoded_img=colour.models.eotf_sRGB(Normalised_img)       #  inverse  gamma  correction\n",
    "    \n",
    "    return Decoded_img               # float  image  in  linear space"
   ]
  },
  {
   "cell_type": "markdown",
   "metadata": {},
   "source": [
    "Функция `load_image_data` принимает на вход одно jpg изображение и возвращает в переменной `colours` цвета (в линейных координатах) всех 24 квадратов цветовой мишени."
   ]
  },
  {
   "cell_type": "markdown",
   "metadata": {},
   "source": [
    "В <a href=\"http://cvil.eecs.yorku.ca/projects/public_html/illuminant/illuminant.html\" target=\"_blank\">датасете</a> для каждого изображения есть файлы mask.txt, color.txt, в которых записаны координаты всех 24 квадратов и их цвета. \n",
    "Проблема состоит в том, что эти файлы соответствуют изображениям из датасета в формате png, а не jpg. \n",
    "\n",
    "В формате png в датасете хранятся почти 'сырые' изображения, в которых не установлен баланс белого. При визуализации таких изображений получается, либо черное, либо темно зеленое изображение. \n",
    "\n",
    "Таким образом, мы не можем использовать файл color.txt. Вместо этого воспользуемся файлом mask.txt, вычислим координаты всех 24 квадратов и вручную посчитаем их средние цвета. \n",
    "\n",
    "При этом, как сказано в <a href=\"http://cvil.eecs.yorku.ca/projects/public_html/illuminant/readme.txt\" target=\"_blank\">описании датасета</a>, размер jpg изображений вдвое больше, чем png. Это мы тоже будем учитывать."
   ]
  },
  {
   "cell_type": "code",
   "execution_count": 5,
   "metadata": {},
   "outputs": [],
   "source": [
    "def load_image_data(name, visualize = False):\n",
    "    \n",
    "    if name.startswith('Canon600D_'):\n",
    "        camera = 'Canon600D'\n",
    "    elif name.startswith('PanasonicGX1_'):     \n",
    "        camera = 'PanasonicGX1'\n",
    "    elif name.startswith('SonyA57_'):     \n",
    "        camera = 'SonyA57'\n",
    "    elif name.startswith('Canon1DsMkIII_'):     \n",
    "        camera = 'Canon1DsMkIII'\n",
    "    else: \n",
    "        raise ValueError('invalid name')\n",
    "        \n",
    "        \n",
    "    img = cv.imread('./train_images/' + name + '.jpg', cv.IMREAD_UNCHANGED)            # read image\n",
    "    Decoded_img = decode_image(img)\n",
    "    \n",
    "    num = int(name[-4:])         #  number of image                \n",
    "    \n",
    "    mat = scipy.io.loadmat('./train_images/data/' + camera + '_gt.mat')\n",
    "    list(mat['CC_coords'][num-1])              # numbers start with 1\n",
    "    \n",
    "    y_l, y_r, x_l, x_r = list(2*mat['CC_coords'][num-1])                          # CC_coords  for  png  images\n",
    "    \n",
    "    roi = [y_l, y_r, x_l, x_r]\n",
    "\n",
    "    if visualize == True:\n",
    "        cv.imshow(\"Color checker\", img[y_l:y_r, x_l:x_r, :])                             # сначала y, потом x       \n",
    "        cv.waitKey(0)     \n",
    "    \n",
    "    with open('./train_images/data/' + name + '_mask.txt') as f:\n",
    "        lines = f.readlines()\n",
    "    \n",
    "    x = []\n",
    "    y = []\n",
    "    for i in range(1, len(lines)): \n",
    "        L = lines[i][:-1].split(',')\n",
    "        if i % 2 == 1: \n",
    "            x.append([float(elem) for elem in L])\n",
    "        if i %2 == 0:\n",
    "            y.append([float(elem) for elem in L])\n",
    "            \n",
    "    colours = []\n",
    "    for i in range(24):\n",
    "        b = int(max(x[i]))  \n",
    "        a = int(min(x[i]))\n",
    "        B = int(max(y[i]))  \n",
    "        A = int(min(y[i]))\n",
    "\n",
    "        l = b - a\n",
    "        h = B - A\n",
    "\n",
    "        if h < 25 or l < 25:\n",
    "            raise ValueError('image ' + name + ' have too small color patches. Cannot be processed')\n",
    "            \n",
    "        im = img[y_l + 2*A+10:y_l + 2*B-10, x_l + 2*a+10:x_l + 2*b-10, :]                        \n",
    "        \n",
    "        std = np.std(im, axis=(0, 1)) \n",
    "        \n",
    "        if np.max(std) > 5.0:\n",
    "            warnings.warn('image ' + name + ', patch ' + str(i) + ' wrongly detected')\n",
    "            \n",
    "    \n",
    "        im = Decoded_img[y_l + 2*A+10:y_l + 2*B-10, x_l + 2*a+10:x_l + 2*b-10, :]                           \n",
    "    \n",
    "        mean = np.mean(im, axis=(0, 1))                                                             # BGR\n",
    "        \n",
    "        colours.append(mean)\n",
    "        \n",
    "    return np.array(colours), x, y, roi"
   ]
  },
  {
   "cell_type": "markdown",
   "metadata": {},
   "source": [
    "Функция `check` используется только для проверки, что все работает правильно"
   ]
  },
  {
   "cell_type": "code",
   "execution_count": 6,
   "metadata": {},
   "outputs": [],
   "source": [
    "def check(name, i, x, y, roi):\n",
    "    #i = 9\n",
    "    img = cv.imread('./train_images/' + name + '.jpg', cv.IMREAD_UNCHANGED)\n",
    "    y_l, y_r, x_l, x_r = roi\n",
    "    \n",
    "    # cv.imshow(\"image\", img[y_l:y_r, x_l:x_r, :])                                     \n",
    "    # cv.waitKey(0)     \n",
    "      \n",
    "    b = int(max(x[i]))  \n",
    "    a = int(min(x[i]))\n",
    "    B = int(max(y[i]))  \n",
    "    A = int(min(y[i]))\n",
    "\n",
    "    l = b - a\n",
    "    h = B - A\n",
    "\n",
    "    if h < 25 or l < 25:\n",
    "        raise ValueError('image ' + name + ' have too small color patches')\n",
    "        \n",
    "    \n",
    "    im = img[y_l + 2*A+10:y_l + 2*B-10, x_l + 2*a+10:x_l + 2*b-10, :]\n",
    "    \n",
    "    cv.imshow(\"Color patch\", im)                          \n",
    "    cv.waitKey(0)  \n",
    "    \n",
    "    mean = np.mean(im, axis=(0, 1))                             # BGR\n",
    "\n",
    "    std = np.std(im, axis=(0, 1)) \n",
    "\n",
    "    if np.max(std) > 5.0:\n",
    "        warnings.warn('image ' + name + ', patch ' + str(i) + ' wrongly detected')\n",
    "    \n",
    "    print('patch mean: ', mean)\n",
    "    print('patch std: ', std)\n",
    "    print('patch size: ', h, l)\n",
    "    \n",
    "    return"
   ]
  },
  {
   "cell_type": "markdown",
   "metadata": {},
   "source": [
    "Функция `data_matrix` нужна для того чтобы получить матрицы $R$, $Q$ (я использую обозначения из <a href=\"https://core.ac.uk/download/pdf/41988521.pdf\" target=\"_blank\">статьи</a> Финлейсона). По этим матрицам затем будет вычисляться матрица преобразования $M$ с помощью метода наименьших квадратов."
   ]
  },
  {
   "cell_type": "code",
   "execution_count": 7,
   "metadata": {},
   "outputs": [],
   "source": [
    "def data_matrix(names):\n",
    "    \n",
    "    data = []\n",
    "    for name in names:\n",
    "        \n",
    "        colours, x, y, roi = load_image_data(name)\n",
    "        data.append(colours)\n",
    "        \n",
    "    return np.vstack(data)"
   ]
  },
  {
   "cell_type": "code",
   "execution_count": 8,
   "metadata": {},
   "outputs": [],
   "source": [
    "# experiments\n",
    "\n",
    "colours, x, y, roi = load_image_data(canon_names[-1], visualize = True)"
   ]
  },
  {
   "cell_type": "code",
   "execution_count": 9,
   "metadata": {},
   "outputs": [
    {
     "name": "stdout",
     "output_type": "stream",
     "text": [
      "patch mean:  [ 185.6  192.8  111.1]\n",
      "patch std:  [ 1.3  1.5  2.4]\n",
      "patch size:  42 48\n"
     ]
    }
   ],
   "source": [
    "check(canon_names[-1], 23, x, y, roi)"
   ]
  },
  {
   "cell_type": "code",
   "execution_count": 10,
   "metadata": {},
   "outputs": [
    {
     "data": {
      "text/plain": [
       "(24, 3)"
      ]
     },
     "execution_count": 10,
     "metadata": {},
     "output_type": "execute_result"
    }
   ],
   "source": [
    "colours.shape"
   ]
  },
  {
   "cell_type": "markdown",
   "metadata": {},
   "source": [
    "# 2. Алгоритм цветовой коррекции"
   ]
  },
  {
   "cell_type": "markdown",
   "metadata": {},
   "source": [
    "Функция `expansion` принимает на вход массив размера $[..., \\, 3]$ и возвращает массив размера $[..., \\, D]$, где $D$ зависит от аргумента `degree`. По каждому вектору $(r, \\, g, \\, b)$ находится вектор размерности $D$, состоящий из координат Финлейсона или полиномиальных координат."
   ]
  },
  {
   "cell_type": "code",
   "execution_count": 11,
   "metadata": {},
   "outputs": [],
   "source": [
    "def expansion(RGB, degree, method):\n",
    "\n",
    "    if method == 'Finlayson':\n",
    "        b = True\n",
    "    elif method == 'Polynomial':\n",
    "        b = False\n",
    "    else:\n",
    "        raise ValueError('invalid method')\n",
    "        \n",
    "    RGB = RGB.astype(float)\n",
    "        \n",
    "    r, g, b = [RGB[..., x] for x in range(RGB.shape[-1])]\n",
    "    \n",
    "    if degree not in [1, 2, 3]:\n",
    "        raise ValueError('invalid degree: only degree <= 3 is available')\n",
    "    \n",
    "    if degree == 1:\n",
    "        return RGB\n",
    "    \n",
    "    elif degree == 2:\n",
    "        if method == 'Finlayson':\n",
    "            return np.stack([\n",
    "                r,\n",
    "                g,\n",
    "                b,\n",
    "                np.power(r * g, 1 / 2),\n",
    "                np.power(g * b, 1 / 2),\n",
    "                np.power(r * b, 1 / 2),\n",
    "            ], axis = -1)\n",
    "        \n",
    "        if method == 'Polynomial':\n",
    "            return np.stack([\n",
    "                r,\n",
    "                g,\n",
    "                b,\n",
    "                r ** 2,\n",
    "                g ** 2,\n",
    "                b ** 2,\n",
    "                r * g,\n",
    "                g * b,\n",
    "                r * b,\n",
    "            ], axis = -1)\n",
    "    \n",
    "    elif degree == 3:\n",
    "        if method == 'Finlayson':\n",
    "            return np.stack([\n",
    "                r,\n",
    "                g,\n",
    "                b,\n",
    "                np.power(r * g, 1 / 2),\n",
    "                np.power(g * b, 1 / 2),\n",
    "                np.power(r * b, 1 / 2),\n",
    "                np.power(r * g ** 2, 1 / 3),\n",
    "                np.power(g * b ** 2, 1 / 3),\n",
    "                np.power(r * b ** 2, 1 / 3),\n",
    "                np.power(g * r ** 2, 1 / 3),\n",
    "                np.power(b * g ** 2, 1 / 3),\n",
    "                np.power(b * r ** 2, 1 / 3),\n",
    "                np.power(r * g * b, 1 / 3),\n",
    "            ], axis = -1)\n",
    "    \n",
    "        if method == 'Polynomial':\n",
    "            return np.stack([\n",
    "                r,\n",
    "                g,\n",
    "                b,\n",
    "                r ** 2,\n",
    "                g ** 2,\n",
    "                b ** 2,\n",
    "                r * g,\n",
    "                g * b,\n",
    "                r * b,\n",
    "                r ** 3,\n",
    "                g ** 3,\n",
    "                b ** 3,\n",
    "                r * g ** 2,\n",
    "                g * b ** 2,\n",
    "                r * b ** 2,\n",
    "                g * r ** 2,\n",
    "                b * g ** 2,\n",
    "                b * r ** 2,\n",
    "                r * g * b,\n",
    "            ], axis = -1)"
   ]
  },
  {
   "cell_type": "markdown",
   "metadata": {},
   "source": [
    "Функция `fit` вычисляет матрицу преобразования $M$ по формуле из статьи Финлейсона. (np.linalg.pinv --- Moore-Penrose inverse)"
   ]
  },
  {
   "cell_type": "code",
   "execution_count": 12,
   "metadata": {},
   "outputs": [],
   "source": [
    "def fit(R, Q, degree, method):\n",
    "    \n",
    "    R_e = expansion(R, degree, method)\n",
    "        \n",
    "    return np.dot(np.transpose(Q), np.linalg.pinv(np.transpose(R_e)))"
   ]
  },
  {
   "cell_type": "markdown",
   "metadata": {},
   "source": [
    "Функция `predict` применяет матрицу $M$ к изображению `im`. \n",
    "\n",
    "Сначала изображение `im` переводится из sRGB координат в линейные координаты, а затем обратно."
   ]
  },
  {
   "cell_type": "code",
   "execution_count": 13,
   "metadata": {},
   "outputs": [],
   "source": [
    "def predict(im, M, degree, method):\n",
    "    \n",
    "    Decoded_img = decode_image(im)\n",
    "    \n",
    "    shape = Decoded_img.shape\n",
    "\n",
    "    RGB = np.reshape(Decoded_img, (-1, 3))\n",
    "\n",
    "    RGB_e = expansion(RGB, degree, method)\n",
    "    \n",
    "    Corrected_img =  np.reshape(np.transpose(np.dot(M, np.transpose(RGB_e))), shape)\n",
    "    \n",
    "    Encoded_img = colour.models.eotf_inverse_sRGB(Corrected_img)\n",
    "    \n",
    "    Encoded_img = 255.0 * Encoded_img\n",
    "\n",
    "    return Encoded_img.astype(int)"
   ]
  },
  {
   "cell_type": "code",
   "execution_count": 14,
   "metadata": {},
   "outputs": [],
   "source": [
    "def fit_predict(im, R, Q, degree, method):\n",
    "    \n",
    "    M = fit(R, Q, degree, method)\n",
    "    \n",
    "    return predict(im, M, degree, method)"
   ]
  },
  {
   "cell_type": "markdown",
   "metadata": {},
   "source": [
    "# 3. Применение"
   ]
  },
  {
   "cell_type": "markdown",
   "metadata": {},
   "source": [
    "Имена всех фотографий из папки train_images"
   ]
  },
  {
   "cell_type": "code",
   "execution_count": 15,
   "metadata": {},
   "outputs": [],
   "source": [
    "canon_names = ['Canon600D_0002', 'Canon600D_0015', 'Canon600D_0016', 'Canon600D_0017', 'Canon600D_0036', 'Canon600D_0037', 'Canon600D_0041', 'Canon600D_0059', 'Canon600D_0062', 'Canon600D_0070', 'Canon600D_0073', 'Canon600D_0097']\n",
    "mark_names = ['Canon1DsMkIII_0237', 'Canon1DsMkIII_0250', 'Canon1DsMkIII_0251', 'Canon1DsMkIII_0252', 'Canon1DsMkIII_0120', 'Canon1DsMkIII_0121', 'Canon1DsMkIII_0125', 'Canon1DsMkIII_0143', 'Canon1DsMkIII_0146', 'Canon1DsMkIII_0154', 'Canon1DsMkIII_0157', 'Canon1DsMkIII_0180']"
   ]
  },
  {
   "cell_type": "code",
   "execution_count": 16,
   "metadata": {},
   "outputs": [],
   "source": [
    "Q = data_matrix(canon_names)\n",
    "R = data_matrix(mark_names)"
   ]
  },
  {
   "cell_type": "code",
   "execution_count": 17,
   "metadata": {},
   "outputs": [
    {
     "data": {
      "text/plain": [
       "(288, 3)"
      ]
     },
     "execution_count": 17,
     "metadata": {},
     "output_type": "execute_result"
    }
   ],
   "source": [
    "R.shape\n",
    "# R[0]"
   ]
  },
  {
   "cell_type": "markdown",
   "metadata": {},
   "source": [
    "Изображения камеры Canon в среднем значительно более яркие, чем изображения камеры Mark. Следовательно, алгоритм цветовой коррекции должен делать изображения камеры Mark более яркими. Проверим это"
   ]
  },
  {
   "cell_type": "code",
   "execution_count": 18,
   "metadata": {},
   "outputs": [
    {
     "name": "stdout",
     "output_type": "stream",
     "text": [
      "mean brightness of predicted images:  [ 182.4  116.2  137.5]\n",
      "mean brightness of mark images:  [ 159.6  100.4  119.8]\n",
      "mean brightness of canon images:  [ 177.1  116.3  150.5]\n"
     ]
    }
   ],
   "source": [
    "# experiment\n",
    "\n",
    "degree = 1\n",
    "method = 'Finlayson'\n",
    "\n",
    "predict_mean = []\n",
    "mark_mean = []\n",
    "canon_mean = []\n",
    "\n",
    "for name in mark_names[:3]:\n",
    "    \n",
    "    mark_img = cv.imread('./train_images/' + name + '.jpg', cv.IMREAD_UNCHANGED)\n",
    "    \n",
    "    predict_img = fit_predict(mark_img, R, Q, degree, method)\n",
    "    \n",
    "    predict_mean.append(np.mean(predict_img))\n",
    "    \n",
    "    mark_mean.append(np.mean(mark_img))\n",
    "    \n",
    "for name in canon_names[:3]:\n",
    "    \n",
    "    canon_img = cv.imread('./train_images/' + name + '.jpg', cv.IMREAD_UNCHANGED)\n",
    "    \n",
    "    canon_mean.append(np.mean(canon_img))\n",
    "\n",
    "\n",
    "print('mean brightness of predicted images: ', np.array(predict_mean))\n",
    "print('mean brightness of mark images: ', np.array(mark_mean))\n",
    "print('mean brightness of canon images: ', np.array(canon_mean))\n"
   ]
  },
  {
   "cell_type": "markdown",
   "metadata": {},
   "source": [
    "Посмотрим на матрицу цветовой коррекции $M$ "
   ]
  },
  {
   "cell_type": "code",
   "execution_count": 19,
   "metadata": {},
   "outputs": [
    {
     "name": "stdout",
     "output_type": "stream",
     "text": [
      "[[ 1.6 -0.3  0. ]\n",
      " [ 0.   1.3 -0. ]\n",
      " [ 0.1 -0.2  1.4]]\n"
     ]
    }
   ],
   "source": [
    "# experiment\n",
    "\n",
    "degree = 1\n",
    "method = 'Finlayson'\n",
    "\n",
    "M = fit(R, Q, degree, method)\n",
    "print(M)"
   ]
  },
  {
   "cell_type": "markdown",
   "metadata": {},
   "source": [
    "### Загрузка результатов работы алгоритмов"
   ]
  },
  {
   "cell_type": "markdown",
   "metadata": {},
   "source": [
    "Имена фотографий из папки test_images"
   ]
  },
  {
   "cell_type": "code",
   "execution_count": 20,
   "metadata": {},
   "outputs": [],
   "source": [
    "test_mark_names = ['1_Mark', '2_Mark', '3_Mark', '4_Mark']"
   ]
  },
  {
   "cell_type": "markdown",
   "metadata": {},
   "source": [
    "Функция `write_result` применяет преобразование к тестовому изображению и сохраняет результат в папке results"
   ]
  },
  {
   "cell_type": "code",
   "execution_count": 21,
   "metadata": {},
   "outputs": [],
   "source": [
    "def write_result(im, num, R, Q, degree, method):\n",
    "    \n",
    "    predict_img = fit_predict(im, R, Q, degree, method)\n",
    "    \n",
    "    if degree == 1:\n",
    "    \n",
    "        # cv.imwrite('./results/result_' + str(num) + '.jpg', predict_img)\n",
    "        cv.imwrite('./results/' + str(num) + '_result.jpg', predict_img)\n",
    "        \n",
    "    else:\n",
    "        \n",
    "        # cv.imwrite('./results/result_' + str(num) + ' (degree=' + str(degree) + ', ' + method + ').jpg', predict_img)\n",
    "        cv.imwrite('./results/' + str(num) + '_result (degree=' + str(degree) + ', ' + method + ').jpg', predict_img)\n",
    "    \n",
    "    return "
   ]
  },
  {
   "cell_type": "code",
   "execution_count": 22,
   "metadata": {},
   "outputs": [],
   "source": [
    "# generate   submission\n",
    "\n",
    "for name in test_mark_names:\n",
    "    \n",
    "    num = int(name[:1])                           #  предполагаем, что   тестовых   изображений   меньше     10\n",
    "    img = cv.imread('./test_images/' + name + '.jpg', cv.IMREAD_UNCHANGED)\n",
    "    \n",
    "    for degree in [1, 2, 3]:\n",
    "        for method in ['Finlayson', 'Polynomial']:\n",
    "            if degree == 1 and method == 'Polynomial':\n",
    "                continue\n",
    "            \n",
    "            write_result(img, num, R, Q, degree, method)\n",
    "            "
   ]
  }
 ],
 "metadata": {
  "kernelspec": {
   "display_name": "Python 3",
   "language": "python",
   "name": "python3"
  },
  "language_info": {
   "codemirror_mode": {
    "name": "ipython",
    "version": 3
   },
   "file_extension": ".py",
   "mimetype": "text/x-python",
   "name": "python",
   "nbconvert_exporter": "python",
   "pygments_lexer": "ipython3",
   "version": "3.8.5"
  }
 },
 "nbformat": 4,
 "nbformat_minor": 4
}
